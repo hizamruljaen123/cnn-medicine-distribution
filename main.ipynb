{
 "cells": [
  {
   "cell_type": "code",
   "execution_count": 2,
   "metadata": {},
   "outputs": [
    {
     "name": "stdout",
     "output_type": "stream",
     "text": [
      "Data Obat\n"
     ]
    },
    {
     "data": {
      "text/html": [
       "<div>\n",
       "<style scoped>\n",
       "    .dataframe tbody tr th:only-of-type {\n",
       "        vertical-align: middle;\n",
       "    }\n",
       "\n",
       "    .dataframe tbody tr th {\n",
       "        vertical-align: top;\n",
       "    }\n",
       "\n",
       "    .dataframe thead th {\n",
       "        text-align: right;\n",
       "    }\n",
       "</style>\n",
       "<table border=\"1\" class=\"dataframe\">\n",
       "  <thead>\n",
       "    <tr style=\"text-align: right;\">\n",
       "      <th></th>\n",
       "      <th>Obat</th>\n",
       "      <th>Stok Awal</th>\n",
       "      <th>Permintaan Puskesmas</th>\n",
       "      <th>Pemakaian</th>\n",
       "      <th>Sisa Stok</th>\n",
       "    </tr>\n",
       "  </thead>\n",
       "  <tbody>\n",
       "    <tr>\n",
       "      <th>0</th>\n",
       "      <td>Parasetamol</td>\n",
       "      <td>500</td>\n",
       "      <td>400</td>\n",
       "      <td>350</td>\n",
       "      <td>150</td>\n",
       "    </tr>\n",
       "    <tr>\n",
       "      <th>1</th>\n",
       "      <td>Amoksisilin</td>\n",
       "      <td>300</td>\n",
       "      <td>200</td>\n",
       "      <td>180</td>\n",
       "      <td>120</td>\n",
       "    </tr>\n",
       "    <tr>\n",
       "      <th>2</th>\n",
       "      <td>Vitamin C</td>\n",
       "      <td>600</td>\n",
       "      <td>450</td>\n",
       "      <td>400</td>\n",
       "      <td>200</td>\n",
       "    </tr>\n",
       "    <tr>\n",
       "      <th>3</th>\n",
       "      <td>Ibuprofen</td>\n",
       "      <td>700</td>\n",
       "      <td>500</td>\n",
       "      <td>450</td>\n",
       "      <td>250</td>\n",
       "    </tr>\n",
       "    <tr>\n",
       "      <th>4</th>\n",
       "      <td>Metformin</td>\n",
       "      <td>400</td>\n",
       "      <td>350</td>\n",
       "      <td>300</td>\n",
       "      <td>100</td>\n",
       "    </tr>\n",
       "    <tr>\n",
       "      <th>5</th>\n",
       "      <td>Losartan</td>\n",
       "      <td>350</td>\n",
       "      <td>300</td>\n",
       "      <td>270</td>\n",
       "      <td>80</td>\n",
       "    </tr>\n",
       "    <tr>\n",
       "      <th>6</th>\n",
       "      <td>Amlodipin</td>\n",
       "      <td>450</td>\n",
       "      <td>380</td>\n",
       "      <td>320</td>\n",
       "      <td>130</td>\n",
       "    </tr>\n",
       "    <tr>\n",
       "      <th>7</th>\n",
       "      <td>Simvastatin</td>\n",
       "      <td>500</td>\n",
       "      <td>420</td>\n",
       "      <td>400</td>\n",
       "      <td>100</td>\n",
       "    </tr>\n",
       "    <tr>\n",
       "      <th>8</th>\n",
       "      <td>Aspirin</td>\n",
       "      <td>650</td>\n",
       "      <td>520</td>\n",
       "      <td>470</td>\n",
       "      <td>180</td>\n",
       "    </tr>\n",
       "    <tr>\n",
       "      <th>9</th>\n",
       "      <td>Omeprazole</td>\n",
       "      <td>550</td>\n",
       "      <td>460</td>\n",
       "      <td>420</td>\n",
       "      <td>130</td>\n",
       "    </tr>\n",
       "    <tr>\n",
       "      <th>10</th>\n",
       "      <td>Cefadroxil</td>\n",
       "      <td>600</td>\n",
       "      <td>480</td>\n",
       "      <td>450</td>\n",
       "      <td>150</td>\n",
       "    </tr>\n",
       "    <tr>\n",
       "      <th>11</th>\n",
       "      <td>Dexamethasone</td>\n",
       "      <td>500</td>\n",
       "      <td>430</td>\n",
       "      <td>390</td>\n",
       "      <td>110</td>\n",
       "    </tr>\n",
       "    <tr>\n",
       "      <th>12</th>\n",
       "      <td>Azitromisin</td>\n",
       "      <td>450</td>\n",
       "      <td>350</td>\n",
       "      <td>330</td>\n",
       "      <td>120</td>\n",
       "    </tr>\n",
       "    <tr>\n",
       "      <th>13</th>\n",
       "      <td>Ketorolac</td>\n",
       "      <td>400</td>\n",
       "      <td>300</td>\n",
       "      <td>270</td>\n",
       "      <td>130</td>\n",
       "    </tr>\n",
       "    <tr>\n",
       "      <th>14</th>\n",
       "      <td>Furosemide</td>\n",
       "      <td>350</td>\n",
       "      <td>300</td>\n",
       "      <td>290</td>\n",
       "      <td>60</td>\n",
       "    </tr>\n",
       "  </tbody>\n",
       "</table>\n",
       "</div>"
      ],
      "text/plain": [
       "             Obat  Stok Awal  Permintaan Puskesmas  Pemakaian  Sisa Stok\n",
       "0     Parasetamol        500                   400        350        150\n",
       "1     Amoksisilin        300                   200        180        120\n",
       "2       Vitamin C        600                   450        400        200\n",
       "3       Ibuprofen        700                   500        450        250\n",
       "4       Metformin        400                   350        300        100\n",
       "5        Losartan        350                   300        270         80\n",
       "6       Amlodipin        450                   380        320        130\n",
       "7     Simvastatin        500                   420        400        100\n",
       "8         Aspirin        650                   520        470        180\n",
       "9      Omeprazole        550                   460        420        130\n",
       "10     Cefadroxil        600                   480        450        150\n",
       "11  Dexamethasone        500                   430        390        110\n",
       "12    Azitromisin        450                   350        330        120\n",
       "13      Ketorolac        400                   300        270        130\n",
       "14     Furosemide        350                   300        290         60"
      ]
     },
     "metadata": {},
     "output_type": "display_data"
    },
    {
     "name": "stdout",
     "output_type": "stream",
     "text": [
      "Hasil TSNE\n"
     ]
    },
    {
     "data": {
      "application/vnd.plotly.v1+json": {
       "config": {
        "plotlyServerURL": "https://plot.ly"
       },
       "data": [
        {
         "customdata": [
          [
           "Parasetamol",
           350,
           150
          ],
          [
           "Amoksisilin",
           180,
           120
          ],
          [
           "Vitamin C",
           400,
           200
          ],
          [
           "Ibuprofen",
           450,
           250
          ],
          [
           "Metformin",
           300,
           100
          ],
          [
           "Losartan",
           270,
           80
          ],
          [
           "Amlodipin",
           320,
           130
          ],
          [
           "Simvastatin",
           400,
           100
          ],
          [
           "Aspirin",
           470,
           180
          ],
          [
           "Omeprazole",
           420,
           130
          ],
          [
           "Cefadroxil",
           450,
           150
          ],
          [
           "Dexamethasone",
           390,
           110
          ],
          [
           "Azitromisin",
           330,
           120
          ],
          [
           "Ketorolac",
           270,
           130
          ],
          [
           "Furosemide",
           290,
           60
          ]
         ],
         "hovertemplate": "Cluster_X=%{x}<br>Cluster_Y=%{y}<br>Obat=%{customdata[0]}<br>Pemakaian=%{customdata[1]}<br>Sisa Stok=%{customdata[2]}<br>Cluster=%{marker.color}<extra></extra>",
         "legendgroup": "",
         "marker": {
          "color": [
           2,
           4,
           0,
           1,
           3,
           4,
           3,
           2,
           1,
           0,
           0,
           2,
           3,
           4,
           4
          ],
          "coloraxis": "coloraxis",
          "symbol": "circle"
         },
         "mode": "markers",
         "name": "",
         "orientation": "v",
         "showlegend": false,
         "type": "scatter",
         "x": [
          495.52788629070596,
          396.0768092674133,
          585.8576539807135,
          674.9375724453789,
          428.97053321581495,
          352.7621465587776,
          442.3430578950079,
          502.5566963002104,
          635.8346087881065,
          556.1778244109299,
          590.9255542443439,
          502.0629571617507,
          436.1608705224324,
          403.7370632526282,
          368.3032875340441
         ],
         "xaxis": "x",
         "y": [
          409.0856065201509,
          321.2412492930875,
          461.78535478762797,
          500.6361841978983,
          350.9149200751571,
          286.71867483379395,
          362.4470859718194,
          421.12539841054246,
          483.1142093631021,
          447.003105033984,
          467.02081973285846,
          421.6135281070829,
          357.2526016085505,
          329.0649401951015,
          299.51300764528736
         ],
         "yaxis": "y"
        },
        {
         "marker": {
          "color": "black",
          "size": 10,
          "symbol": "x"
         },
         "mode": "markers",
         "name": "Centroid 0",
         "type": "scatter",
         "x": [
          592.5747405402549
         ],
         "y": [
          469.00548918066033
         ]
        },
        {
         "marker": {
          "color": "black",
          "size": 10,
          "symbol": "x"
         },
         "mode": "markers",
         "name": "Centroid 1",
         "type": "scatter",
         "x": [
          682.856397959727
         ],
         "y": [
          504.47636793028335
         ]
        },
        {
         "marker": {
          "color": "black",
          "size": 10,
          "symbol": "x"
         },
         "mode": "markers",
         "name": "Centroid 2",
         "type": "scatter",
         "x": [
          501.80461155037676
         ],
         "y": [
          421.7639872648285
         ]
        },
        {
         "marker": {
          "color": "black",
          "size": 10,
          "symbol": "x"
         },
         "mode": "markers",
         "name": "Centroid 3",
         "type": "scatter",
         "x": [
          431.26805961750443
         ],
         "y": [
          353.25560325755544
         ]
        },
        {
         "marker": {
          "color": "black",
          "size": 10,
          "symbol": "x"
         },
         "mode": "markers",
         "name": "Centroid 4",
         "type": "scatter",
         "x": [
          345.75279876030567
         ],
         "y": [
          280.949334533815
         ]
        }
       ],
       "layout": {
        "coloraxis": {
         "colorbar": {
          "orientation": "h",
          "title": {
           "text": "Cluster"
          },
          "x": 0.5,
          "xanchor": "center",
          "y": -0.3,
          "yanchor": "bottom"
         },
         "colorscale": [
          [
           0,
           "#0d0887"
          ],
          [
           0.1111111111111111,
           "#46039f"
          ],
          [
           0.2222222222222222,
           "#7201a8"
          ],
          [
           0.3333333333333333,
           "#9c179e"
          ],
          [
           0.4444444444444444,
           "#bd3786"
          ],
          [
           0.5555555555555556,
           "#d8576b"
          ],
          [
           0.6666666666666666,
           "#ed7953"
          ],
          [
           0.7777777777777778,
           "#fb9f3a"
          ],
          [
           0.8888888888888888,
           "#fdca26"
          ],
          [
           1,
           "#f0f921"
          ]
         ]
        },
        "legend": {
         "tracegroupgap": 0
        },
        "template": {
         "data": {
          "bar": [
           {
            "error_x": {
             "color": "#2a3f5f"
            },
            "error_y": {
             "color": "#2a3f5f"
            },
            "marker": {
             "line": {
              "color": "#E5ECF6",
              "width": 0.5
             },
             "pattern": {
              "fillmode": "overlay",
              "size": 10,
              "solidity": 0.2
             }
            },
            "type": "bar"
           }
          ],
          "barpolar": [
           {
            "marker": {
             "line": {
              "color": "#E5ECF6",
              "width": 0.5
             },
             "pattern": {
              "fillmode": "overlay",
              "size": 10,
              "solidity": 0.2
             }
            },
            "type": "barpolar"
           }
          ],
          "carpet": [
           {
            "aaxis": {
             "endlinecolor": "#2a3f5f",
             "gridcolor": "white",
             "linecolor": "white",
             "minorgridcolor": "white",
             "startlinecolor": "#2a3f5f"
            },
            "baxis": {
             "endlinecolor": "#2a3f5f",
             "gridcolor": "white",
             "linecolor": "white",
             "minorgridcolor": "white",
             "startlinecolor": "#2a3f5f"
            },
            "type": "carpet"
           }
          ],
          "choropleth": [
           {
            "colorbar": {
             "outlinewidth": 0,
             "ticks": ""
            },
            "type": "choropleth"
           }
          ],
          "contour": [
           {
            "colorbar": {
             "outlinewidth": 0,
             "ticks": ""
            },
            "colorscale": [
             [
              0,
              "#0d0887"
             ],
             [
              0.1111111111111111,
              "#46039f"
             ],
             [
              0.2222222222222222,
              "#7201a8"
             ],
             [
              0.3333333333333333,
              "#9c179e"
             ],
             [
              0.4444444444444444,
              "#bd3786"
             ],
             [
              0.5555555555555556,
              "#d8576b"
             ],
             [
              0.6666666666666666,
              "#ed7953"
             ],
             [
              0.7777777777777778,
              "#fb9f3a"
             ],
             [
              0.8888888888888888,
              "#fdca26"
             ],
             [
              1,
              "#f0f921"
             ]
            ],
            "type": "contour"
           }
          ],
          "contourcarpet": [
           {
            "colorbar": {
             "outlinewidth": 0,
             "ticks": ""
            },
            "type": "contourcarpet"
           }
          ],
          "heatmap": [
           {
            "colorbar": {
             "outlinewidth": 0,
             "ticks": ""
            },
            "colorscale": [
             [
              0,
              "#0d0887"
             ],
             [
              0.1111111111111111,
              "#46039f"
             ],
             [
              0.2222222222222222,
              "#7201a8"
             ],
             [
              0.3333333333333333,
              "#9c179e"
             ],
             [
              0.4444444444444444,
              "#bd3786"
             ],
             [
              0.5555555555555556,
              "#d8576b"
             ],
             [
              0.6666666666666666,
              "#ed7953"
             ],
             [
              0.7777777777777778,
              "#fb9f3a"
             ],
             [
              0.8888888888888888,
              "#fdca26"
             ],
             [
              1,
              "#f0f921"
             ]
            ],
            "type": "heatmap"
           }
          ],
          "heatmapgl": [
           {
            "colorbar": {
             "outlinewidth": 0,
             "ticks": ""
            },
            "colorscale": [
             [
              0,
              "#0d0887"
             ],
             [
              0.1111111111111111,
              "#46039f"
             ],
             [
              0.2222222222222222,
              "#7201a8"
             ],
             [
              0.3333333333333333,
              "#9c179e"
             ],
             [
              0.4444444444444444,
              "#bd3786"
             ],
             [
              0.5555555555555556,
              "#d8576b"
             ],
             [
              0.6666666666666666,
              "#ed7953"
             ],
             [
              0.7777777777777778,
              "#fb9f3a"
             ],
             [
              0.8888888888888888,
              "#fdca26"
             ],
             [
              1,
              "#f0f921"
             ]
            ],
            "type": "heatmapgl"
           }
          ],
          "histogram": [
           {
            "marker": {
             "pattern": {
              "fillmode": "overlay",
              "size": 10,
              "solidity": 0.2
             }
            },
            "type": "histogram"
           }
          ],
          "histogram2d": [
           {
            "colorbar": {
             "outlinewidth": 0,
             "ticks": ""
            },
            "colorscale": [
             [
              0,
              "#0d0887"
             ],
             [
              0.1111111111111111,
              "#46039f"
             ],
             [
              0.2222222222222222,
              "#7201a8"
             ],
             [
              0.3333333333333333,
              "#9c179e"
             ],
             [
              0.4444444444444444,
              "#bd3786"
             ],
             [
              0.5555555555555556,
              "#d8576b"
             ],
             [
              0.6666666666666666,
              "#ed7953"
             ],
             [
              0.7777777777777778,
              "#fb9f3a"
             ],
             [
              0.8888888888888888,
              "#fdca26"
             ],
             [
              1,
              "#f0f921"
             ]
            ],
            "type": "histogram2d"
           }
          ],
          "histogram2dcontour": [
           {
            "colorbar": {
             "outlinewidth": 0,
             "ticks": ""
            },
            "colorscale": [
             [
              0,
              "#0d0887"
             ],
             [
              0.1111111111111111,
              "#46039f"
             ],
             [
              0.2222222222222222,
              "#7201a8"
             ],
             [
              0.3333333333333333,
              "#9c179e"
             ],
             [
              0.4444444444444444,
              "#bd3786"
             ],
             [
              0.5555555555555556,
              "#d8576b"
             ],
             [
              0.6666666666666666,
              "#ed7953"
             ],
             [
              0.7777777777777778,
              "#fb9f3a"
             ],
             [
              0.8888888888888888,
              "#fdca26"
             ],
             [
              1,
              "#f0f921"
             ]
            ],
            "type": "histogram2dcontour"
           }
          ],
          "mesh3d": [
           {
            "colorbar": {
             "outlinewidth": 0,
             "ticks": ""
            },
            "type": "mesh3d"
           }
          ],
          "parcoords": [
           {
            "line": {
             "colorbar": {
              "outlinewidth": 0,
              "ticks": ""
             }
            },
            "type": "parcoords"
           }
          ],
          "pie": [
           {
            "automargin": true,
            "type": "pie"
           }
          ],
          "scatter": [
           {
            "fillpattern": {
             "fillmode": "overlay",
             "size": 10,
             "solidity": 0.2
            },
            "type": "scatter"
           }
          ],
          "scatter3d": [
           {
            "line": {
             "colorbar": {
              "outlinewidth": 0,
              "ticks": ""
             }
            },
            "marker": {
             "colorbar": {
              "outlinewidth": 0,
              "ticks": ""
             }
            },
            "type": "scatter3d"
           }
          ],
          "scattercarpet": [
           {
            "marker": {
             "colorbar": {
              "outlinewidth": 0,
              "ticks": ""
             }
            },
            "type": "scattercarpet"
           }
          ],
          "scattergeo": [
           {
            "marker": {
             "colorbar": {
              "outlinewidth": 0,
              "ticks": ""
             }
            },
            "type": "scattergeo"
           }
          ],
          "scattergl": [
           {
            "marker": {
             "colorbar": {
              "outlinewidth": 0,
              "ticks": ""
             }
            },
            "type": "scattergl"
           }
          ],
          "scattermapbox": [
           {
            "marker": {
             "colorbar": {
              "outlinewidth": 0,
              "ticks": ""
             }
            },
            "type": "scattermapbox"
           }
          ],
          "scatterpolar": [
           {
            "marker": {
             "colorbar": {
              "outlinewidth": 0,
              "ticks": ""
             }
            },
            "type": "scatterpolar"
           }
          ],
          "scatterpolargl": [
           {
            "marker": {
             "colorbar": {
              "outlinewidth": 0,
              "ticks": ""
             }
            },
            "type": "scatterpolargl"
           }
          ],
          "scatterternary": [
           {
            "marker": {
             "colorbar": {
              "outlinewidth": 0,
              "ticks": ""
             }
            },
            "type": "scatterternary"
           }
          ],
          "surface": [
           {
            "colorbar": {
             "outlinewidth": 0,
             "ticks": ""
            },
            "colorscale": [
             [
              0,
              "#0d0887"
             ],
             [
              0.1111111111111111,
              "#46039f"
             ],
             [
              0.2222222222222222,
              "#7201a8"
             ],
             [
              0.3333333333333333,
              "#9c179e"
             ],
             [
              0.4444444444444444,
              "#bd3786"
             ],
             [
              0.5555555555555556,
              "#d8576b"
             ],
             [
              0.6666666666666666,
              "#ed7953"
             ],
             [
              0.7777777777777778,
              "#fb9f3a"
             ],
             [
              0.8888888888888888,
              "#fdca26"
             ],
             [
              1,
              "#f0f921"
             ]
            ],
            "type": "surface"
           }
          ],
          "table": [
           {
            "cells": {
             "fill": {
              "color": "#EBF0F8"
             },
             "line": {
              "color": "white"
             }
            },
            "header": {
             "fill": {
              "color": "#C8D4E3"
             },
             "line": {
              "color": "white"
             }
            },
            "type": "table"
           }
          ]
         },
         "layout": {
          "annotationdefaults": {
           "arrowcolor": "#2a3f5f",
           "arrowhead": 0,
           "arrowwidth": 1
          },
          "autotypenumbers": "strict",
          "coloraxis": {
           "colorbar": {
            "outlinewidth": 0,
            "ticks": ""
           }
          },
          "colorscale": {
           "diverging": [
            [
             0,
             "#8e0152"
            ],
            [
             0.1,
             "#c51b7d"
            ],
            [
             0.2,
             "#de77ae"
            ],
            [
             0.3,
             "#f1b6da"
            ],
            [
             0.4,
             "#fde0ef"
            ],
            [
             0.5,
             "#f7f7f7"
            ],
            [
             0.6,
             "#e6f5d0"
            ],
            [
             0.7,
             "#b8e186"
            ],
            [
             0.8,
             "#7fbc41"
            ],
            [
             0.9,
             "#4d9221"
            ],
            [
             1,
             "#276419"
            ]
           ],
           "sequential": [
            [
             0,
             "#0d0887"
            ],
            [
             0.1111111111111111,
             "#46039f"
            ],
            [
             0.2222222222222222,
             "#7201a8"
            ],
            [
             0.3333333333333333,
             "#9c179e"
            ],
            [
             0.4444444444444444,
             "#bd3786"
            ],
            [
             0.5555555555555556,
             "#d8576b"
            ],
            [
             0.6666666666666666,
             "#ed7953"
            ],
            [
             0.7777777777777778,
             "#fb9f3a"
            ],
            [
             0.8888888888888888,
             "#fdca26"
            ],
            [
             1,
             "#f0f921"
            ]
           ],
           "sequentialminus": [
            [
             0,
             "#0d0887"
            ],
            [
             0.1111111111111111,
             "#46039f"
            ],
            [
             0.2222222222222222,
             "#7201a8"
            ],
            [
             0.3333333333333333,
             "#9c179e"
            ],
            [
             0.4444444444444444,
             "#bd3786"
            ],
            [
             0.5555555555555556,
             "#d8576b"
            ],
            [
             0.6666666666666666,
             "#ed7953"
            ],
            [
             0.7777777777777778,
             "#fb9f3a"
            ],
            [
             0.8888888888888888,
             "#fdca26"
            ],
            [
             1,
             "#f0f921"
            ]
           ]
          },
          "colorway": [
           "#636efa",
           "#EF553B",
           "#00cc96",
           "#ab63fa",
           "#FFA15A",
           "#19d3f3",
           "#FF6692",
           "#B6E880",
           "#FF97FF",
           "#FECB52"
          ],
          "font": {
           "color": "#2a3f5f"
          },
          "geo": {
           "bgcolor": "white",
           "lakecolor": "white",
           "landcolor": "#E5ECF6",
           "showlakes": true,
           "showland": true,
           "subunitcolor": "white"
          },
          "hoverlabel": {
           "align": "left"
          },
          "hovermode": "closest",
          "mapbox": {
           "style": "light"
          },
          "paper_bgcolor": "white",
          "plot_bgcolor": "#E5ECF6",
          "polar": {
           "angularaxis": {
            "gridcolor": "white",
            "linecolor": "white",
            "ticks": ""
           },
           "bgcolor": "#E5ECF6",
           "radialaxis": {
            "gridcolor": "white",
            "linecolor": "white",
            "ticks": ""
           }
          },
          "scene": {
           "xaxis": {
            "backgroundcolor": "#E5ECF6",
            "gridcolor": "white",
            "gridwidth": 2,
            "linecolor": "white",
            "showbackground": true,
            "ticks": "",
            "zerolinecolor": "white"
           },
           "yaxis": {
            "backgroundcolor": "#E5ECF6",
            "gridcolor": "white",
            "gridwidth": 2,
            "linecolor": "white",
            "showbackground": true,
            "ticks": "",
            "zerolinecolor": "white"
           },
           "zaxis": {
            "backgroundcolor": "#E5ECF6",
            "gridcolor": "white",
            "gridwidth": 2,
            "linecolor": "white",
            "showbackground": true,
            "ticks": "",
            "zerolinecolor": "white"
           }
          },
          "shapedefaults": {
           "line": {
            "color": "#2a3f5f"
           }
          },
          "ternary": {
           "aaxis": {
            "gridcolor": "white",
            "linecolor": "white",
            "ticks": ""
           },
           "baxis": {
            "gridcolor": "white",
            "linecolor": "white",
            "ticks": ""
           },
           "bgcolor": "#E5ECF6",
           "caxis": {
            "gridcolor": "white",
            "linecolor": "white",
            "ticks": ""
           }
          },
          "title": {
           "x": 0.05
          },
          "xaxis": {
           "automargin": true,
           "gridcolor": "white",
           "linecolor": "white",
           "ticks": "",
           "title": {
            "standoff": 15
           },
           "zerolinecolor": "white",
           "zerolinewidth": 2
          },
          "yaxis": {
           "automargin": true,
           "gridcolor": "white",
           "linecolor": "white",
           "ticks": "",
           "title": {
            "standoff": 15
           },
           "zerolinecolor": "white",
           "zerolinewidth": 2
          }
         }
        },
        "title": {
         "text": "Fuzzy C-Means Clustering in 2D (Cluster Coordinates)"
        },
        "xaxis": {
         "anchor": "y",
         "domain": [
          0,
          1
         ],
         "title": {
          "text": "Cluster_X"
         }
        },
        "yaxis": {
         "anchor": "x",
         "domain": [
          0,
          1
         ],
         "title": {
          "text": "Cluster_Y"
         }
        }
       }
      }
     },
     "metadata": {},
     "output_type": "display_data"
    },
    {
     "name": "stdout",
     "output_type": "stream",
     "text": [
      "Hasil TSNE\n"
     ]
    },
    {
     "data": {
      "application/vnd.plotly.v1+json": {
       "config": {
        "plotlyServerURL": "https://plot.ly"
       },
       "data": [
        {
         "customdata": [
          [
           "Parasetamol",
           500,
           400,
           350,
           150
          ],
          [
           "Amoksisilin",
           300,
           200,
           180,
           120
          ],
          [
           "Vitamin C",
           600,
           450,
           400,
           200
          ],
          [
           "Ibuprofen",
           700,
           500,
           450,
           250
          ],
          [
           "Metformin",
           400,
           350,
           300,
           100
          ],
          [
           "Losartan",
           350,
           300,
           270,
           80
          ],
          [
           "Amlodipin",
           450,
           380,
           320,
           130
          ],
          [
           "Simvastatin",
           500,
           420,
           400,
           100
          ],
          [
           "Aspirin",
           650,
           520,
           470,
           180
          ],
          [
           "Omeprazole",
           550,
           460,
           420,
           130
          ],
          [
           "Cefadroxil",
           600,
           480,
           450,
           150
          ],
          [
           "Dexamethasone",
           500,
           430,
           390,
           110
          ],
          [
           "Azitromisin",
           450,
           350,
           330,
           120
          ],
          [
           "Ketorolac",
           400,
           300,
           270,
           130
          ],
          [
           "Furosemide",
           350,
           300,
           290,
           60
          ]
         ],
         "hovertemplate": "TSNE-1=%{x}<br>TSNE-2=%{y}<br>Obat=%{customdata[0]}<br>Stok Awal=%{customdata[1]}<br>Permintaan Puskesmas=%{customdata[2]}<br>Pemakaian=%{customdata[3]}<br>Sisa Stok=%{customdata[4]}<br>Cluster=%{marker.color}<extra></extra>",
         "legendgroup": "",
         "marker": {
          "color": [
           2,
           4,
           0,
           1,
           3,
           4,
           3,
           2,
           1,
           0,
           0,
           2,
           3,
           4,
           4
          ],
          "coloraxis": "coloraxis",
          "symbol": "circle"
         },
         "mode": "markers",
         "name": "",
         "orientation": "v",
         "showlegend": false,
         "type": "scatter",
         "x": [
          -12.454890251159668,
          4.4784111976623535,
          -18.756031036376953,
          -18.427703857421875,
          18.136810302734375,
          -8.262618064880371,
          -4.015824794769287,
          -9.94787311553955,
          -34.268802642822266,
          -22.509780883789062,
          -31.017841339111328,
          -21.003582000732422,
          8.102201461791992,
          28.567907333374023,
          26.950435638427734
         ],
         "xaxis": "x",
         "y": [
          -24.07727813720703,
          61.496665954589844,
          21.313947677612305,
          35.15898895263672,
          -24.047441482543945,
          58.72191619873047,
          -34.47711181640625,
          -7.49830436706543,
          30.242345809936523,
          4.634016513824463,
          16.52927017211914,
          -11.57872486114502,
          -36.67916488647461,
          -12.960151672363281,
          6.763717174530029
         ],
         "yaxis": "y"
        }
       ],
       "layout": {
        "coloraxis": {
         "colorbar": {
          "title": {
           "text": "Cluster"
          }
         },
         "colorscale": [
          [
           0,
           "#0d0887"
          ],
          [
           0.1111111111111111,
           "#46039f"
          ],
          [
           0.2222222222222222,
           "#7201a8"
          ],
          [
           0.3333333333333333,
           "#9c179e"
          ],
          [
           0.4444444444444444,
           "#bd3786"
          ],
          [
           0.5555555555555556,
           "#d8576b"
          ],
          [
           0.6666666666666666,
           "#ed7953"
          ],
          [
           0.7777777777777778,
           "#fb9f3a"
          ],
          [
           0.8888888888888888,
           "#fdca26"
          ],
          [
           1,
           "#f0f921"
          ]
         ]
        },
        "legend": {
         "tracegroupgap": 0
        },
        "template": {
         "data": {
          "bar": [
           {
            "error_x": {
             "color": "#2a3f5f"
            },
            "error_y": {
             "color": "#2a3f5f"
            },
            "marker": {
             "line": {
              "color": "#E5ECF6",
              "width": 0.5
             },
             "pattern": {
              "fillmode": "overlay",
              "size": 10,
              "solidity": 0.2
             }
            },
            "type": "bar"
           }
          ],
          "barpolar": [
           {
            "marker": {
             "line": {
              "color": "#E5ECF6",
              "width": 0.5
             },
             "pattern": {
              "fillmode": "overlay",
              "size": 10,
              "solidity": 0.2
             }
            },
            "type": "barpolar"
           }
          ],
          "carpet": [
           {
            "aaxis": {
             "endlinecolor": "#2a3f5f",
             "gridcolor": "white",
             "linecolor": "white",
             "minorgridcolor": "white",
             "startlinecolor": "#2a3f5f"
            },
            "baxis": {
             "endlinecolor": "#2a3f5f",
             "gridcolor": "white",
             "linecolor": "white",
             "minorgridcolor": "white",
             "startlinecolor": "#2a3f5f"
            },
            "type": "carpet"
           }
          ],
          "choropleth": [
           {
            "colorbar": {
             "outlinewidth": 0,
             "ticks": ""
            },
            "type": "choropleth"
           }
          ],
          "contour": [
           {
            "colorbar": {
             "outlinewidth": 0,
             "ticks": ""
            },
            "colorscale": [
             [
              0,
              "#0d0887"
             ],
             [
              0.1111111111111111,
              "#46039f"
             ],
             [
              0.2222222222222222,
              "#7201a8"
             ],
             [
              0.3333333333333333,
              "#9c179e"
             ],
             [
              0.4444444444444444,
              "#bd3786"
             ],
             [
              0.5555555555555556,
              "#d8576b"
             ],
             [
              0.6666666666666666,
              "#ed7953"
             ],
             [
              0.7777777777777778,
              "#fb9f3a"
             ],
             [
              0.8888888888888888,
              "#fdca26"
             ],
             [
              1,
              "#f0f921"
             ]
            ],
            "type": "contour"
           }
          ],
          "contourcarpet": [
           {
            "colorbar": {
             "outlinewidth": 0,
             "ticks": ""
            },
            "type": "contourcarpet"
           }
          ],
          "heatmap": [
           {
            "colorbar": {
             "outlinewidth": 0,
             "ticks": ""
            },
            "colorscale": [
             [
              0,
              "#0d0887"
             ],
             [
              0.1111111111111111,
              "#46039f"
             ],
             [
              0.2222222222222222,
              "#7201a8"
             ],
             [
              0.3333333333333333,
              "#9c179e"
             ],
             [
              0.4444444444444444,
              "#bd3786"
             ],
             [
              0.5555555555555556,
              "#d8576b"
             ],
             [
              0.6666666666666666,
              "#ed7953"
             ],
             [
              0.7777777777777778,
              "#fb9f3a"
             ],
             [
              0.8888888888888888,
              "#fdca26"
             ],
             [
              1,
              "#f0f921"
             ]
            ],
            "type": "heatmap"
           }
          ],
          "heatmapgl": [
           {
            "colorbar": {
             "outlinewidth": 0,
             "ticks": ""
            },
            "colorscale": [
             [
              0,
              "#0d0887"
             ],
             [
              0.1111111111111111,
              "#46039f"
             ],
             [
              0.2222222222222222,
              "#7201a8"
             ],
             [
              0.3333333333333333,
              "#9c179e"
             ],
             [
              0.4444444444444444,
              "#bd3786"
             ],
             [
              0.5555555555555556,
              "#d8576b"
             ],
             [
              0.6666666666666666,
              "#ed7953"
             ],
             [
              0.7777777777777778,
              "#fb9f3a"
             ],
             [
              0.8888888888888888,
              "#fdca26"
             ],
             [
              1,
              "#f0f921"
             ]
            ],
            "type": "heatmapgl"
           }
          ],
          "histogram": [
           {
            "marker": {
             "pattern": {
              "fillmode": "overlay",
              "size": 10,
              "solidity": 0.2
             }
            },
            "type": "histogram"
           }
          ],
          "histogram2d": [
           {
            "colorbar": {
             "outlinewidth": 0,
             "ticks": ""
            },
            "colorscale": [
             [
              0,
              "#0d0887"
             ],
             [
              0.1111111111111111,
              "#46039f"
             ],
             [
              0.2222222222222222,
              "#7201a8"
             ],
             [
              0.3333333333333333,
              "#9c179e"
             ],
             [
              0.4444444444444444,
              "#bd3786"
             ],
             [
              0.5555555555555556,
              "#d8576b"
             ],
             [
              0.6666666666666666,
              "#ed7953"
             ],
             [
              0.7777777777777778,
              "#fb9f3a"
             ],
             [
              0.8888888888888888,
              "#fdca26"
             ],
             [
              1,
              "#f0f921"
             ]
            ],
            "type": "histogram2d"
           }
          ],
          "histogram2dcontour": [
           {
            "colorbar": {
             "outlinewidth": 0,
             "ticks": ""
            },
            "colorscale": [
             [
              0,
              "#0d0887"
             ],
             [
              0.1111111111111111,
              "#46039f"
             ],
             [
              0.2222222222222222,
              "#7201a8"
             ],
             [
              0.3333333333333333,
              "#9c179e"
             ],
             [
              0.4444444444444444,
              "#bd3786"
             ],
             [
              0.5555555555555556,
              "#d8576b"
             ],
             [
              0.6666666666666666,
              "#ed7953"
             ],
             [
              0.7777777777777778,
              "#fb9f3a"
             ],
             [
              0.8888888888888888,
              "#fdca26"
             ],
             [
              1,
              "#f0f921"
             ]
            ],
            "type": "histogram2dcontour"
           }
          ],
          "mesh3d": [
           {
            "colorbar": {
             "outlinewidth": 0,
             "ticks": ""
            },
            "type": "mesh3d"
           }
          ],
          "parcoords": [
           {
            "line": {
             "colorbar": {
              "outlinewidth": 0,
              "ticks": ""
             }
            },
            "type": "parcoords"
           }
          ],
          "pie": [
           {
            "automargin": true,
            "type": "pie"
           }
          ],
          "scatter": [
           {
            "fillpattern": {
             "fillmode": "overlay",
             "size": 10,
             "solidity": 0.2
            },
            "type": "scatter"
           }
          ],
          "scatter3d": [
           {
            "line": {
             "colorbar": {
              "outlinewidth": 0,
              "ticks": ""
             }
            },
            "marker": {
             "colorbar": {
              "outlinewidth": 0,
              "ticks": ""
             }
            },
            "type": "scatter3d"
           }
          ],
          "scattercarpet": [
           {
            "marker": {
             "colorbar": {
              "outlinewidth": 0,
              "ticks": ""
             }
            },
            "type": "scattercarpet"
           }
          ],
          "scattergeo": [
           {
            "marker": {
             "colorbar": {
              "outlinewidth": 0,
              "ticks": ""
             }
            },
            "type": "scattergeo"
           }
          ],
          "scattergl": [
           {
            "marker": {
             "colorbar": {
              "outlinewidth": 0,
              "ticks": ""
             }
            },
            "type": "scattergl"
           }
          ],
          "scattermapbox": [
           {
            "marker": {
             "colorbar": {
              "outlinewidth": 0,
              "ticks": ""
             }
            },
            "type": "scattermapbox"
           }
          ],
          "scatterpolar": [
           {
            "marker": {
             "colorbar": {
              "outlinewidth": 0,
              "ticks": ""
             }
            },
            "type": "scatterpolar"
           }
          ],
          "scatterpolargl": [
           {
            "marker": {
             "colorbar": {
              "outlinewidth": 0,
              "ticks": ""
             }
            },
            "type": "scatterpolargl"
           }
          ],
          "scatterternary": [
           {
            "marker": {
             "colorbar": {
              "outlinewidth": 0,
              "ticks": ""
             }
            },
            "type": "scatterternary"
           }
          ],
          "surface": [
           {
            "colorbar": {
             "outlinewidth": 0,
             "ticks": ""
            },
            "colorscale": [
             [
              0,
              "#0d0887"
             ],
             [
              0.1111111111111111,
              "#46039f"
             ],
             [
              0.2222222222222222,
              "#7201a8"
             ],
             [
              0.3333333333333333,
              "#9c179e"
             ],
             [
              0.4444444444444444,
              "#bd3786"
             ],
             [
              0.5555555555555556,
              "#d8576b"
             ],
             [
              0.6666666666666666,
              "#ed7953"
             ],
             [
              0.7777777777777778,
              "#fb9f3a"
             ],
             [
              0.8888888888888888,
              "#fdca26"
             ],
             [
              1,
              "#f0f921"
             ]
            ],
            "type": "surface"
           }
          ],
          "table": [
           {
            "cells": {
             "fill": {
              "color": "#EBF0F8"
             },
             "line": {
              "color": "white"
             }
            },
            "header": {
             "fill": {
              "color": "#C8D4E3"
             },
             "line": {
              "color": "white"
             }
            },
            "type": "table"
           }
          ]
         },
         "layout": {
          "annotationdefaults": {
           "arrowcolor": "#2a3f5f",
           "arrowhead": 0,
           "arrowwidth": 1
          },
          "autotypenumbers": "strict",
          "coloraxis": {
           "colorbar": {
            "outlinewidth": 0,
            "ticks": ""
           }
          },
          "colorscale": {
           "diverging": [
            [
             0,
             "#8e0152"
            ],
            [
             0.1,
             "#c51b7d"
            ],
            [
             0.2,
             "#de77ae"
            ],
            [
             0.3,
             "#f1b6da"
            ],
            [
             0.4,
             "#fde0ef"
            ],
            [
             0.5,
             "#f7f7f7"
            ],
            [
             0.6,
             "#e6f5d0"
            ],
            [
             0.7,
             "#b8e186"
            ],
            [
             0.8,
             "#7fbc41"
            ],
            [
             0.9,
             "#4d9221"
            ],
            [
             1,
             "#276419"
            ]
           ],
           "sequential": [
            [
             0,
             "#0d0887"
            ],
            [
             0.1111111111111111,
             "#46039f"
            ],
            [
             0.2222222222222222,
             "#7201a8"
            ],
            [
             0.3333333333333333,
             "#9c179e"
            ],
            [
             0.4444444444444444,
             "#bd3786"
            ],
            [
             0.5555555555555556,
             "#d8576b"
            ],
            [
             0.6666666666666666,
             "#ed7953"
            ],
            [
             0.7777777777777778,
             "#fb9f3a"
            ],
            [
             0.8888888888888888,
             "#fdca26"
            ],
            [
             1,
             "#f0f921"
            ]
           ],
           "sequentialminus": [
            [
             0,
             "#0d0887"
            ],
            [
             0.1111111111111111,
             "#46039f"
            ],
            [
             0.2222222222222222,
             "#7201a8"
            ],
            [
             0.3333333333333333,
             "#9c179e"
            ],
            [
             0.4444444444444444,
             "#bd3786"
            ],
            [
             0.5555555555555556,
             "#d8576b"
            ],
            [
             0.6666666666666666,
             "#ed7953"
            ],
            [
             0.7777777777777778,
             "#fb9f3a"
            ],
            [
             0.8888888888888888,
             "#fdca26"
            ],
            [
             1,
             "#f0f921"
            ]
           ]
          },
          "colorway": [
           "#636efa",
           "#EF553B",
           "#00cc96",
           "#ab63fa",
           "#FFA15A",
           "#19d3f3",
           "#FF6692",
           "#B6E880",
           "#FF97FF",
           "#FECB52"
          ],
          "font": {
           "color": "#2a3f5f"
          },
          "geo": {
           "bgcolor": "white",
           "lakecolor": "white",
           "landcolor": "#E5ECF6",
           "showlakes": true,
           "showland": true,
           "subunitcolor": "white"
          },
          "hoverlabel": {
           "align": "left"
          },
          "hovermode": "closest",
          "mapbox": {
           "style": "light"
          },
          "paper_bgcolor": "white",
          "plot_bgcolor": "#E5ECF6",
          "polar": {
           "angularaxis": {
            "gridcolor": "white",
            "linecolor": "white",
            "ticks": ""
           },
           "bgcolor": "#E5ECF6",
           "radialaxis": {
            "gridcolor": "white",
            "linecolor": "white",
            "ticks": ""
           }
          },
          "scene": {
           "xaxis": {
            "backgroundcolor": "#E5ECF6",
            "gridcolor": "white",
            "gridwidth": 2,
            "linecolor": "white",
            "showbackground": true,
            "ticks": "",
            "zerolinecolor": "white"
           },
           "yaxis": {
            "backgroundcolor": "#E5ECF6",
            "gridcolor": "white",
            "gridwidth": 2,
            "linecolor": "white",
            "showbackground": true,
            "ticks": "",
            "zerolinecolor": "white"
           },
           "zaxis": {
            "backgroundcolor": "#E5ECF6",
            "gridcolor": "white",
            "gridwidth": 2,
            "linecolor": "white",
            "showbackground": true,
            "ticks": "",
            "zerolinecolor": "white"
           }
          },
          "shapedefaults": {
           "line": {
            "color": "#2a3f5f"
           }
          },
          "ternary": {
           "aaxis": {
            "gridcolor": "white",
            "linecolor": "white",
            "ticks": ""
           },
           "baxis": {
            "gridcolor": "white",
            "linecolor": "white",
            "ticks": ""
           },
           "bgcolor": "#E5ECF6",
           "caxis": {
            "gridcolor": "white",
            "linecolor": "white",
            "ticks": ""
           }
          },
          "title": {
           "x": 0.05
          },
          "xaxis": {
           "automargin": true,
           "gridcolor": "white",
           "linecolor": "white",
           "ticks": "",
           "title": {
            "standoff": 15
           },
           "zerolinecolor": "white",
           "zerolinewidth": 2
          },
          "yaxis": {
           "automargin": true,
           "gridcolor": "white",
           "linecolor": "white",
           "ticks": "",
           "title": {
            "standoff": 15
           },
           "zerolinecolor": "white",
           "zerolinewidth": 2
          }
         }
        },
        "title": {
         "text": "t-SNE Visualization of Clustering"
        },
        "xaxis": {
         "anchor": "y",
         "domain": [
          0,
          1
         ],
         "title": {
          "text": "TSNE-1"
         }
        },
        "yaxis": {
         "anchor": "x",
         "domain": [
          0,
          1
         ],
         "title": {
          "text": "TSNE-2"
         }
        }
       }
      }
     },
     "metadata": {},
     "output_type": "display_data"
    },
    {
     "data": {
      "text/html": [
       "<div>\n",
       "<style scoped>\n",
       "    .dataframe tbody tr th:only-of-type {\n",
       "        vertical-align: middle;\n",
       "    }\n",
       "\n",
       "    .dataframe tbody tr th {\n",
       "        vertical-align: top;\n",
       "    }\n",
       "\n",
       "    .dataframe thead th {\n",
       "        text-align: right;\n",
       "    }\n",
       "</style>\n",
       "<table border=\"1\" class=\"dataframe\">\n",
       "  <thead>\n",
       "    <tr style=\"text-align: right;\">\n",
       "      <th></th>\n",
       "      <th>Obat</th>\n",
       "      <th>Stok Awal</th>\n",
       "      <th>Permintaan Puskesmas</th>\n",
       "      <th>Pemakaian</th>\n",
       "      <th>Sisa Stok</th>\n",
       "      <th>Cluster</th>\n",
       "      <th>Cluster_X</th>\n",
       "      <th>Cluster_Y</th>\n",
       "      <th>TSNE-1</th>\n",
       "      <th>TSNE-2</th>\n",
       "    </tr>\n",
       "  </thead>\n",
       "  <tbody>\n",
       "    <tr>\n",
       "      <th>0</th>\n",
       "      <td>Parasetamol</td>\n",
       "      <td>500</td>\n",
       "      <td>400</td>\n",
       "      <td>350</td>\n",
       "      <td>150</td>\n",
       "      <td>2</td>\n",
       "      <td>495.527886</td>\n",
       "      <td>409.085607</td>\n",
       "      <td>-12.454890</td>\n",
       "      <td>-24.077278</td>\n",
       "    </tr>\n",
       "    <tr>\n",
       "      <th>1</th>\n",
       "      <td>Amoksisilin</td>\n",
       "      <td>300</td>\n",
       "      <td>200</td>\n",
       "      <td>180</td>\n",
       "      <td>120</td>\n",
       "      <td>4</td>\n",
       "      <td>396.076809</td>\n",
       "      <td>321.241249</td>\n",
       "      <td>4.478411</td>\n",
       "      <td>61.496666</td>\n",
       "    </tr>\n",
       "    <tr>\n",
       "      <th>2</th>\n",
       "      <td>Vitamin C</td>\n",
       "      <td>600</td>\n",
       "      <td>450</td>\n",
       "      <td>400</td>\n",
       "      <td>200</td>\n",
       "      <td>0</td>\n",
       "      <td>585.857654</td>\n",
       "      <td>461.785355</td>\n",
       "      <td>-18.756031</td>\n",
       "      <td>21.313948</td>\n",
       "    </tr>\n",
       "    <tr>\n",
       "      <th>3</th>\n",
       "      <td>Ibuprofen</td>\n",
       "      <td>700</td>\n",
       "      <td>500</td>\n",
       "      <td>450</td>\n",
       "      <td>250</td>\n",
       "      <td>1</td>\n",
       "      <td>674.937572</td>\n",
       "      <td>500.636184</td>\n",
       "      <td>-18.427704</td>\n",
       "      <td>35.158989</td>\n",
       "    </tr>\n",
       "    <tr>\n",
       "      <th>4</th>\n",
       "      <td>Metformin</td>\n",
       "      <td>400</td>\n",
       "      <td>350</td>\n",
       "      <td>300</td>\n",
       "      <td>100</td>\n",
       "      <td>3</td>\n",
       "      <td>428.970533</td>\n",
       "      <td>350.914920</td>\n",
       "      <td>18.136810</td>\n",
       "      <td>-24.047441</td>\n",
       "    </tr>\n",
       "    <tr>\n",
       "      <th>5</th>\n",
       "      <td>Losartan</td>\n",
       "      <td>350</td>\n",
       "      <td>300</td>\n",
       "      <td>270</td>\n",
       "      <td>80</td>\n",
       "      <td>4</td>\n",
       "      <td>352.762147</td>\n",
       "      <td>286.718675</td>\n",
       "      <td>-8.262618</td>\n",
       "      <td>58.721916</td>\n",
       "    </tr>\n",
       "    <tr>\n",
       "      <th>6</th>\n",
       "      <td>Amlodipin</td>\n",
       "      <td>450</td>\n",
       "      <td>380</td>\n",
       "      <td>320</td>\n",
       "      <td>130</td>\n",
       "      <td>3</td>\n",
       "      <td>442.343058</td>\n",
       "      <td>362.447086</td>\n",
       "      <td>-4.015825</td>\n",
       "      <td>-34.477112</td>\n",
       "    </tr>\n",
       "    <tr>\n",
       "      <th>7</th>\n",
       "      <td>Simvastatin</td>\n",
       "      <td>500</td>\n",
       "      <td>420</td>\n",
       "      <td>400</td>\n",
       "      <td>100</td>\n",
       "      <td>2</td>\n",
       "      <td>502.556696</td>\n",
       "      <td>421.125398</td>\n",
       "      <td>-9.947873</td>\n",
       "      <td>-7.498304</td>\n",
       "    </tr>\n",
       "    <tr>\n",
       "      <th>8</th>\n",
       "      <td>Aspirin</td>\n",
       "      <td>650</td>\n",
       "      <td>520</td>\n",
       "      <td>470</td>\n",
       "      <td>180</td>\n",
       "      <td>1</td>\n",
       "      <td>635.834609</td>\n",
       "      <td>483.114209</td>\n",
       "      <td>-34.268803</td>\n",
       "      <td>30.242346</td>\n",
       "    </tr>\n",
       "    <tr>\n",
       "      <th>9</th>\n",
       "      <td>Omeprazole</td>\n",
       "      <td>550</td>\n",
       "      <td>460</td>\n",
       "      <td>420</td>\n",
       "      <td>130</td>\n",
       "      <td>0</td>\n",
       "      <td>556.177824</td>\n",
       "      <td>447.003105</td>\n",
       "      <td>-22.509781</td>\n",
       "      <td>4.634017</td>\n",
       "    </tr>\n",
       "    <tr>\n",
       "      <th>10</th>\n",
       "      <td>Cefadroxil</td>\n",
       "      <td>600</td>\n",
       "      <td>480</td>\n",
       "      <td>450</td>\n",
       "      <td>150</td>\n",
       "      <td>0</td>\n",
       "      <td>590.925554</td>\n",
       "      <td>467.020820</td>\n",
       "      <td>-31.017841</td>\n",
       "      <td>16.529270</td>\n",
       "    </tr>\n",
       "    <tr>\n",
       "      <th>11</th>\n",
       "      <td>Dexamethasone</td>\n",
       "      <td>500</td>\n",
       "      <td>430</td>\n",
       "      <td>390</td>\n",
       "      <td>110</td>\n",
       "      <td>2</td>\n",
       "      <td>502.062957</td>\n",
       "      <td>421.613528</td>\n",
       "      <td>-21.003582</td>\n",
       "      <td>-11.578725</td>\n",
       "    </tr>\n",
       "    <tr>\n",
       "      <th>12</th>\n",
       "      <td>Azitromisin</td>\n",
       "      <td>450</td>\n",
       "      <td>350</td>\n",
       "      <td>330</td>\n",
       "      <td>120</td>\n",
       "      <td>3</td>\n",
       "      <td>436.160871</td>\n",
       "      <td>357.252602</td>\n",
       "      <td>8.102201</td>\n",
       "      <td>-36.679165</td>\n",
       "    </tr>\n",
       "    <tr>\n",
       "      <th>13</th>\n",
       "      <td>Ketorolac</td>\n",
       "      <td>400</td>\n",
       "      <td>300</td>\n",
       "      <td>270</td>\n",
       "      <td>130</td>\n",
       "      <td>4</td>\n",
       "      <td>403.737063</td>\n",
       "      <td>329.064940</td>\n",
       "      <td>28.567907</td>\n",
       "      <td>-12.960152</td>\n",
       "    </tr>\n",
       "    <tr>\n",
       "      <th>14</th>\n",
       "      <td>Furosemide</td>\n",
       "      <td>350</td>\n",
       "      <td>300</td>\n",
       "      <td>290</td>\n",
       "      <td>60</td>\n",
       "      <td>4</td>\n",
       "      <td>368.303288</td>\n",
       "      <td>299.513008</td>\n",
       "      <td>26.950436</td>\n",
       "      <td>6.763717</td>\n",
       "    </tr>\n",
       "  </tbody>\n",
       "</table>\n",
       "</div>"
      ],
      "text/plain": [
       "             Obat  Stok Awal  Permintaan Puskesmas  Pemakaian  Sisa Stok  \\\n",
       "0     Parasetamol        500                   400        350        150   \n",
       "1     Amoksisilin        300                   200        180        120   \n",
       "2       Vitamin C        600                   450        400        200   \n",
       "3       Ibuprofen        700                   500        450        250   \n",
       "4       Metformin        400                   350        300        100   \n",
       "5        Losartan        350                   300        270         80   \n",
       "6       Amlodipin        450                   380        320        130   \n",
       "7     Simvastatin        500                   420        400        100   \n",
       "8         Aspirin        650                   520        470        180   \n",
       "9      Omeprazole        550                   460        420        130   \n",
       "10     Cefadroxil        600                   480        450        150   \n",
       "11  Dexamethasone        500                   430        390        110   \n",
       "12    Azitromisin        450                   350        330        120   \n",
       "13      Ketorolac        400                   300        270        130   \n",
       "14     Furosemide        350                   300        290         60   \n",
       "\n",
       "    Cluster   Cluster_X   Cluster_Y     TSNE-1     TSNE-2  \n",
       "0         2  495.527886  409.085607 -12.454890 -24.077278  \n",
       "1         4  396.076809  321.241249   4.478411  61.496666  \n",
       "2         0  585.857654  461.785355 -18.756031  21.313948  \n",
       "3         1  674.937572  500.636184 -18.427704  35.158989  \n",
       "4         3  428.970533  350.914920  18.136810 -24.047441  \n",
       "5         4  352.762147  286.718675  -8.262618  58.721916  \n",
       "6         3  442.343058  362.447086  -4.015825 -34.477112  \n",
       "7         2  502.556696  421.125398  -9.947873  -7.498304  \n",
       "8         1  635.834609  483.114209 -34.268803  30.242346  \n",
       "9         0  556.177824  447.003105 -22.509781   4.634017  \n",
       "10        0  590.925554  467.020820 -31.017841  16.529270  \n",
       "11        2  502.062957  421.613528 -21.003582 -11.578725  \n",
       "12        3  436.160871  357.252602   8.102201 -36.679165  \n",
       "13        4  403.737063  329.064940  28.567907 -12.960152  \n",
       "14        4  368.303288  299.513008  26.950436   6.763717  "
      ]
     },
     "metadata": {},
     "output_type": "display_data"
    }
   ],
   "source": [
    "import numpy as np\n",
    "import pandas as pd\n",
    "import skfuzzy as fuzz\n",
    "from sklearn.manifold import TSNE\n",
    "import plotly.graph_objs as go\n",
    "import plotly.express as px\n",
    "from IPython.display import display\n",
    "\n",
    "# Data untuk klasterisasi: mendefinisikan data yang akan digunakan dalam bentuk dictionary\n",
    "data = {\n",
    "    \"Obat\": [\"Parasetamol\", \"Amoksisilin\", \"Vitamin C\", \"Ibuprofen\", \"Metformin\", \"Losartan\", \n",
    "             \"Amlodipin\", \"Simvastatin\", \"Aspirin\", \"Omeprazole\", \"Cefadroxil\", \"Dexamethasone\", \n",
    "             \"Azitromisin\", \"Ketorolac\", \"Furosemide\"],\n",
    "    \"Stok Awal\": [500, 300, 600, 700, 400, 350, 450, 500, 650, 550, 600, 500, 450, 400, 350],\n",
    "    \"Permintaan Puskesmas\": [400, 200, 450, 500, 350, 300, 380, 420, 520, 460, 480, 430, 350, 300, 300],\n",
    "    \"Pemakaian\": [350, 180, 400, 450, 300, 270, 320, 400, 470, 420, 450, 390, 330, 270, 290],\n",
    "    \"Sisa Stok\": [150, 120, 200, 250, 100, 80, 130, 100, 180, 130, 150, 110, 120, 130, 60]\n",
    "}\n",
    "\n",
    "# Mengonversi data dictionary menjadi DataFrame\n",
    "df = pd.DataFrame(data)\n",
    "\n",
    "print(\"Data Obat\")\n",
    "\n",
    "display(df)\n",
    "\n",
    "# Menyiapkan data untuk klasterisasi Fuzzy C-Means\n",
    "# Menggabungkan data 'Stok Awal', 'Permintaan Puskesmas', 'Pemakaian', dan 'Sisa Stok' ke dalam satu array\n",
    "data_for_clustering = np.vstack((df['Stok Awal'], df['Permintaan Puskesmas'], df['Pemakaian'], df['Sisa Stok'])).T\n",
    "\n",
    "# Menerapkan algoritma Fuzzy C-Means untuk klasterisasi dengan 5 klaster\n",
    "n_clusters = 5\n",
    "cntr, u, u0, d, jm, p, fpc = fuzz.cluster.cmeans(\n",
    "    data_for_clustering.T, n_clusters, 2, error=0.005, maxiter=1000, init=None)\n",
    "\n",
    "# Menentukan keanggotaan klaster untuk setiap titik data berdasarkan nilai keanggotaan terbesar\n",
    "cluster_membership = np.argmax(u, axis=0)\n",
    "\n",
    "# Menghitung koordinat klaster (sumbu X dan Y) menggunakan nilai keanggotaan klaster\n",
    "cluster_x = u.T @ cntr[:, 0]\n",
    "cluster_y = u.T @ cntr[:, 1]\n",
    "\n",
    "# Menambahkan informasi klaster dan koordinat ke DataFrame\n",
    "df['Cluster'] = cluster_membership\n",
    "df['Cluster_X'] = cluster_x\n",
    "df['Cluster_Y'] = cluster_y\n",
    "\n",
    "# Melakukan reduksi dimensi dengan t-SNE menjadi 2 dimensi untuk visualisasi\n",
    "tsne = TSNE(n_components=2, perplexity=5, n_iter=300, random_state=0)\n",
    "tsne_results = tsne.fit_transform(data_for_clustering)\n",
    "\n",
    "# Menambahkan hasil t-SNE (2D) ke DataFrame\n",
    "df['TSNE-1'] = tsne_results[:, 0]\n",
    "df['TSNE-2'] = tsne_results[:, 1]\n",
    "\n",
    "# Membuat scatter plot 2D menggunakan Plotly untuk visualisasi klaster Fuzzy C-Means\n",
    "fig_fuzzy = px.scatter(df, x='Cluster_X', y='Cluster_Y', color='Cluster',\n",
    "                       hover_data=['Obat', 'Pemakaian', 'Sisa Stok'],\n",
    "                       title=\"Fuzzy C-Means Clustering in 2D (Cluster Coordinates)\")\n",
    "\n",
    "# Memindahkan skala warna (color bar) ke bawah plot\n",
    "fig_fuzzy.update_layout(coloraxis_colorbar=dict(\n",
    "    orientation=\"h\",\n",
    "    yanchor=\"bottom\",\n",
    "    y=-0.3,  # Memindahkan color bar ke bawah plot\n",
    "    xanchor=\"center\",\n",
    "    x=0.5  # Menempatkan color bar di tengah\n",
    "))\n",
    "\n",
    "# Menambahkan centroid ke plot sebagai tanda 'x' hitam besar\n",
    "for i, center in enumerate(cntr):\n",
    "    fig_fuzzy.add_trace(go.Scatter(x=[center[0]], y=[center[1]], \n",
    "                                   mode='markers', marker=dict(size=10, color='black', symbol='x'),\n",
    "                                   name=f'Centroid {i}'))\n",
    "\n",
    "# Menampilkan plot hasil klasterisasi Fuzzy C-Means\n",
    "print(\"Hasil TSNE\")\n",
    "fig_fuzzy.show()\n",
    "\n",
    "# Membuat scatter plot 2D menggunakan t-SNE untuk visualisasi klaster\n",
    "fig_tsne = px.scatter(df, x='TSNE-1', y='TSNE-2', color='Cluster',\n",
    "                      hover_data=['Obat', 'Stok Awal', 'Permintaan Puskesmas', 'Pemakaian', 'Sisa Stok'],\n",
    "                      title=\"t-SNE Visualization of Clustering\")\n",
    "\n",
    "# Menampilkan plot hasil t-SNE\n",
    "print(\"Hasil TSNE\")\n",
    "fig_tsne.show()\n",
    "\n",
    "# Menampilkan tabel hasil klasterisasi dengan koordinat klaster dan hasil t-SNE\n",
    "df_results = df[['Obat', 'Stok Awal', 'Permintaan Puskesmas', 'Pemakaian', 'Sisa Stok', \n",
    "                 'Cluster', 'Cluster_X', 'Cluster_Y', 'TSNE-1', 'TSNE-2']]\n",
    "\n",
    "# Menampilkan DataFrame dengan hasil klasterisasi dan t-SNE\n",
    "print(\"Hasil Klasterisasi Fuzzy C-Means\")\n",
    "display(df_results)\n"
   ]
  }
 ],
 "metadata": {
  "kernelspec": {
   "display_name": "Python 3",
   "language": "python",
   "name": "python3"
  },
  "language_info": {
   "codemirror_mode": {
    "name": "ipython",
    "version": 3
   },
   "file_extension": ".py",
   "mimetype": "text/x-python",
   "name": "python",
   "nbconvert_exporter": "python",
   "pygments_lexer": "ipython3",
   "version": "3.11.7"
  }
 },
 "nbformat": 4,
 "nbformat_minor": 2
}
